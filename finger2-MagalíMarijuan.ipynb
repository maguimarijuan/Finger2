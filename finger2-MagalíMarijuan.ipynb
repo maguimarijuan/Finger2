{
 "cells": [
  {
   "cell_type": "code",
   "execution_count": 3,
   "metadata": {},
   "outputs": [],
   "source": [
    "from pyspark import SparkContext, SparkConf\n",
    "\n",
    "\n",
    "# -- CON ESTO SE CONFIGURA EL CLUSTER -- \n",
    "\n",
    "#master el que hace funcionar toda la máquina -> queremos determinar que \n",
    "#que nuestra computadora es local y master. \n",
    "\n",
    "conf = SparkConf().setAppName('finger2').setMaster('local')\n",
    "\n",
    "#context -> tiene información sobre como acceder al cluster. \n",
    "sc = SparkContext(conf=conf)\n",
    "\n",
    "\n"
   ]
  },
  {
   "cell_type": "code",
   "execution_count": 104,
   "metadata": {},
   "outputs": [
    {
     "name": "stdout",
     "output_type": "stream",
     "text": [
      "El evento que aparece más veces es viewed product aparece: 528931 veces.\n"
     ]
    }
   ],
   "source": [
    "\n",
    "\n",
    "#con la info del finger anterior elijo la los números de las columnas\n",
    "#El evento que aparece más veces\n",
    "#Encontrar el Top 5 de dispositivos más visitados dentro de la categoría Smartphones.\n",
    "\n",
    "# --- para obtener el RDD --- \n",
    "rdd = sc.textFile(\"documents/OrgaDatos/fiuba-trocafone-tp1-final-set/events.csv\")\n",
    "\n",
    "resultados =rdd.map(lambda a: a.split(',')).map(lambda a: (a[1],1)).reduceByKey(lambda a,b: a+b).collect()\n",
    "#me quedé con 8 resultados entonces puedo trabajar desde el cliente\n",
    "a=0\n",
    "final = 0\n",
    "for resultado in resultados:\n",
    "    if(resultado[1] > a):\n",
    "        a = resultado[1]\n",
    "        final = resultado\n",
    "\n",
    "print (\"El evento que aparece más veces es\",final[0],\"aparece:\",final[1],\"veces.\")\n"
   ]
  },
  {
   "cell_type": "code",
   "execution_count": 109,
   "metadata": {},
   "outputs": [
    {
     "name": "stdout",
     "output_type": "stream",
     "text": [
      "Los eventos más vistos fueron:\n",
      "1 ºpuesto: iPhone 6 con: 47538 repeticiones.\n",
      "2 ºpuesto: iPhone 5s con: 42045 repeticiones.\n",
      "3 ºpuesto: iPhone 6S con: 36930 repeticiones.\n",
      "4 ºpuesto: iPhone 7 con: 26330 repeticiones.\n",
      "5 ºpuesto: Samsung Galaxy S7 Edge con: 23062 repeticiones.\n"
     ]
    }
   ],
   "source": [
    "#Como no sé cuántos elementos son, hago todo desde el servidor\n",
    "resultados = rdd. map(lambda a: a.split(',')).map(lambda a: (a[1],(a[5],1))).filter(lambda a: a[0] == 'viewed product').map(lambda a:(a[1][0],a[1][1])).reduceByKey(lambda a,b: a+b).takeOrdered(5,key = lambda a: -a[1])\n",
    "print(\"Los eventos más vistos fueron:\")\n",
    "a=1\n",
    "for resultado in resultados:\n",
    "    print(a,\"ºpuesto:\",resultado[0],\"con:\",resultado[1],\"repeticiones.\")\n",
    "    a+=1"
   ]
  },
  {
   "cell_type": "code",
   "execution_count": null,
   "metadata": {},
   "outputs": [],
   "source": []
  },
  {
   "cell_type": "raw",
   "metadata": {},
   "source": []
  }
 ],
 "metadata": {
  "kernelspec": {
   "display_name": "Python 3",
   "language": "python",
   "name": "python3"
  },
  "language_info": {
   "codemirror_mode": {
    "name": "ipython",
    "version": 3
   },
   "file_extension": ".py",
   "mimetype": "text/x-python",
   "name": "python",
   "nbconvert_exporter": "python",
   "pygments_lexer": "ipython3",
   "version": "3.6.5"
  }
 },
 "nbformat": 4,
 "nbformat_minor": 2
}
